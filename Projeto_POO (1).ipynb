{
  "nbformat": 4,
  "nbformat_minor": 0,
  "metadata": {
    "colab": {
      "name": "Projeto POO",
      "provenance": [],
      "collapsed_sections": []
    },
    "kernelspec": {
      "name": "python3",
      "display_name": "Python 3"
    }
  },
  "cells": [
    {
      "cell_type": "markdown",
      "metadata": {
        "id": "5SQyA8ZmzqML"
      },
      "source": [
        " **PROJETO 3º UNIDADE** ALGORITMO E PROGRAMAÇÃO ORIENTADA A OBJETOS\r\n",
        " \r\n",
        " \r\n",
        "Aluno : Jerry Leandro Da Silva \r\n",
        "\r\n",
        "Matricula: 20170114647\r\n",
        "\r\n",
        "Portifolio: jerryleandro.github.io"
      ]
    },
    {
      "cell_type": "markdown",
      "metadata": {
        "id": "J2541oRw0E9f"
      },
      "source": [
        "**Perguntas**\r\n",
        "\r\n",
        "\r\n",
        "1. Qual a faixa etária dos indivíduos do sexo feminino e masculino que testaram positivo para covid-19?\r\n",
        "\r\n",
        "2. Qual a faixa etária dos indivíduos do sexo feminino e masculino que testaram negativo para covid-19?\r\n",
        "\r\n",
        "3. Quantos profissionais da saúde testaram positivo para covid-19?\r\n",
        "\r\n",
        "4. Quantas notificações por mês para indivíduos do sexo feminino e masculino?\r\n",
        "\r\n",
        "5. Qual a porcentagem de prevalência de febre e tosse nas notificações?\r\n",
        "\r\n",
        "6. Qual a quantidade de notificações com comorbidades (imunossupressão, diabetes, problemas respiratórios ou cardíacos)?\r\n",
        "\r\n",
        "7. Quantos profissionais de segurança testaram positivo para covid-19?\r\n",
        "\r\n",
        "8. Quantas notificações existem para cada tipo de teste?\r\n",
        "\r\n",
        "9. Quantas notificações são de mulheres com gestação de alto risco?\r\n",
        "\r\n",
        "10. Qual o ranking da quantidade de notificações por estado? "
      ]
    },
    {
      "cell_type": "markdown",
      "metadata": {
        "id": "sdfnmEzFlxhn"
      },
      "source": [
        "**Parte 1**\r\n",
        "https://youtu.be/_B8c6rDMFI8\r\n",
        "\r\n",
        "\r\n",
        "**Parte 2**\r\n",
        "https://youtu.be/UVPxy1GqavI\r\n",
        "\r\n",
        "\r\n",
        "**Parte 3**\r\n",
        "https://youtu.be/bHNupyU0enw\r\n",
        "\r\n",
        "\r\n",
        "**Parte 4**\r\n",
        "https://youtu.be/twoTgJKA48Y\r\n",
        "\r\n",
        "**Parte 5**\r\n",
        "https://youtu.be/KLnRn_3Z1uA"
      ]
    },
    {
      "cell_type": "code",
      "metadata": {
        "id": "fv0CP62IqeuU"
      },
      "source": [
        "import pandas as pd\n",
        "from urllib.request import urlretrieve\n",
        "import matplotlib.pyplot as plt\n",
        "\n",
        "%matplotlib inline"
      ],
      "execution_count": null,
      "outputs": []
    },
    {
      "cell_type": "code",
      "metadata": {
        "colab": {
          "base_uri": "https://localhost:8080/"
        },
        "id": "dZDkeLfYqvHE",
        "outputId": "995465a3-f8da-4c10-c736-dacc462354a7"
      },
      "source": [
        "url = 'https://raw.githubusercontent.com/jerryleandro/ProjetoPOO/main/covid_dataset.csv'\n",
        "urlretrieve(url,'casos_covid_rn.csv')"
      ],
      "execution_count": null,
      "outputs": [
        {
          "output_type": "execute_result",
          "data": {
            "text/plain": [
              "('casos_covid_rn.csv', <http.client.HTTPMessage at 0x7fabb08e1390>)"
            ]
          },
          "metadata": {
            "tags": []
          },
          "execution_count": 76
        }
      ]
    },
    {
      "cell_type": "code",
      "metadata": {
        "id": "L_95NohDrEiw"
      },
      "source": [
        "df_covid = pd.read_csv('casos_covid_rn.csv')"
      ],
      "execution_count": null,
      "outputs": []
    },
    {
      "cell_type": "code",
      "metadata": {
        "colab": {
          "base_uri": "https://localhost:8080/",
          "height": 847
        },
        "id": "Q3Ys5xsBr0sB",
        "outputId": "2935263b-1295-4fa3-f542-f60131764162"
      },
      "source": [
        "df_covid"
      ],
      "execution_count": null,
      "outputs": [
        {
          "output_type": "execute_result",
          "data": {
            "text/html": [
              "<div>\n",
              "<style scoped>\n",
              "    .dataframe tbody tr th:only-of-type {\n",
              "        vertical-align: middle;\n",
              "    }\n",
              "\n",
              "    .dataframe tbody tr th {\n",
              "        vertical-align: top;\n",
              "    }\n",
              "\n",
              "    .dataframe thead th {\n",
              "        text-align: right;\n",
              "    }\n",
              "</style>\n",
              "<table border=\"1\" class=\"dataframe\">\n",
              "  <thead>\n",
              "    <tr style=\"text-align: right;\">\n",
              "      <th></th>\n",
              "      <th>Sexo</th>\n",
              "      <th>Febre</th>\n",
              "      <th>Tosse</th>\n",
              "      <th>Diabetes</th>\n",
              "      <th>Dispneia</th>\n",
              "      <th>Raça/Cor</th>\n",
              "      <th>Tipo de Teste</th>\n",
              "      <th>Dor de Garganta</th>\n",
              "      <th>Estado do Teste</th>\n",
              "      <th>Imunossupressão</th>\n",
              "      <th>Resultado do Teste</th>\n",
              "      <th>Data da Notificação</th>\n",
              "      <th>Descrição do Sintoma</th>\n",
              "      <th>Estado da Notificação</th>\n",
              "      <th>Gestante de alto risco</th>\n",
              "      <th>Data da Coleta do Teste</th>\n",
              "      <th>É profissional de saúde?</th>\n",
              "      <th>Município da Notificacao</th>\n",
              "      <th>Profissional de Segurança</th>\n",
              "      <th>Doenças cardíacas crônicas</th>\n",
              "      <th>Data do início dos sintomas</th>\n",
              "      <th>Doenças respiratórias crônicas descompensadas</th>\n",
              "      <th>Idade</th>\n",
              "    </tr>\n",
              "  </thead>\n",
              "  <tbody>\n",
              "    <tr>\n",
              "      <th>0</th>\n",
              "      <td>Masculino</td>\n",
              "      <td>Não</td>\n",
              "      <td>Sim</td>\n",
              "      <td>Não</td>\n",
              "      <td>Não</td>\n",
              "      <td>Parda</td>\n",
              "      <td>TESTE RÁPIDO - ANTICORPO</td>\n",
              "      <td>Não</td>\n",
              "      <td>Concluído</td>\n",
              "      <td>Não</td>\n",
              "      <td>Negativo</td>\n",
              "      <td>24/07/2020</td>\n",
              "      <td>ASTENIA. CONTATO COM CASO CONFIRMADO</td>\n",
              "      <td>RIO GRANDE DO NORTE</td>\n",
              "      <td>Não</td>\n",
              "      <td>24/07/2020</td>\n",
              "      <td>Não</td>\n",
              "      <td>Macaíba</td>\n",
              "      <td>Não</td>\n",
              "      <td>Não</td>\n",
              "      <td>15/07/2020</td>\n",
              "      <td>Não</td>\n",
              "      <td>39.0</td>\n",
              "    </tr>\n",
              "    <tr>\n",
              "      <th>1</th>\n",
              "      <td>Masculino</td>\n",
              "      <td>Sim</td>\n",
              "      <td>Não</td>\n",
              "      <td>Não</td>\n",
              "      <td>Não</td>\n",
              "      <td>Amarela</td>\n",
              "      <td>TESTE RÁPIDO - ANTICORPO</td>\n",
              "      <td>Não</td>\n",
              "      <td>Concluído</td>\n",
              "      <td>Não</td>\n",
              "      <td>Negativo</td>\n",
              "      <td>14/07/2020</td>\n",
              "      <td>DIARREIA, CEFALEIA</td>\n",
              "      <td>RIO GRANDE DO NORTE</td>\n",
              "      <td>Não</td>\n",
              "      <td>14/07/2020</td>\n",
              "      <td>Não</td>\n",
              "      <td>Natal</td>\n",
              "      <td>Não</td>\n",
              "      <td>Não</td>\n",
              "      <td>01/07/2020</td>\n",
              "      <td>Não</td>\n",
              "      <td>49.0</td>\n",
              "    </tr>\n",
              "    <tr>\n",
              "      <th>3</th>\n",
              "      <td>Feminino</td>\n",
              "      <td>Não</td>\n",
              "      <td>Não</td>\n",
              "      <td>Não</td>\n",
              "      <td>Não</td>\n",
              "      <td>Branca</td>\n",
              "      <td>RT-PCR</td>\n",
              "      <td>Não</td>\n",
              "      <td>Concluído</td>\n",
              "      <td>Não</td>\n",
              "      <td>Negativo</td>\n",
              "      <td>28/07/2020</td>\n",
              "      <td>Sintomas na ficha de atendimento - CPT COVID-1...</td>\n",
              "      <td>RIO GRANDE DO NORTE</td>\n",
              "      <td>Não</td>\n",
              "      <td>24/07/2020</td>\n",
              "      <td>Não</td>\n",
              "      <td>Natal</td>\n",
              "      <td>Não</td>\n",
              "      <td>Não</td>\n",
              "      <td>21/07/2020</td>\n",
              "      <td>Não</td>\n",
              "      <td>53.0</td>\n",
              "    </tr>\n",
              "    <tr>\n",
              "      <th>4</th>\n",
              "      <td>Feminino</td>\n",
              "      <td>Não</td>\n",
              "      <td>Sim</td>\n",
              "      <td>Não</td>\n",
              "      <td>Sim</td>\n",
              "      <td>Branca</td>\n",
              "      <td>Imunoensaio por Eletroquimioluminescência - EC...</td>\n",
              "      <td>Não</td>\n",
              "      <td>Concluído</td>\n",
              "      <td>Não</td>\n",
              "      <td>Negativo</td>\n",
              "      <td>28/07/2020</td>\n",
              "      <td>CEFALEIA</td>\n",
              "      <td>RIO GRANDE DO NORTE</td>\n",
              "      <td>Não</td>\n",
              "      <td>15/07/2020</td>\n",
              "      <td>Não</td>\n",
              "      <td>Natal</td>\n",
              "      <td>Não</td>\n",
              "      <td>Não</td>\n",
              "      <td>01/07/2020</td>\n",
              "      <td>Não</td>\n",
              "      <td>47.0</td>\n",
              "    </tr>\n",
              "    <tr>\n",
              "      <th>7</th>\n",
              "      <td>Feminino</td>\n",
              "      <td>Sim</td>\n",
              "      <td>Não</td>\n",
              "      <td>Não</td>\n",
              "      <td>Não</td>\n",
              "      <td>Parda</td>\n",
              "      <td>TESTE RÁPIDO - ANTICORPO</td>\n",
              "      <td>Não</td>\n",
              "      <td>Concluído</td>\n",
              "      <td>Não</td>\n",
              "      <td>Positivo</td>\n",
              "      <td>28/07/2020</td>\n",
              "      <td>CEFALEIA, AUSÊNCIA DE OLFATO E PALADAR,DIARREI...</td>\n",
              "      <td>RIO GRANDE DO NORTE</td>\n",
              "      <td>Não</td>\n",
              "      <td>28/07/2020</td>\n",
              "      <td>Não</td>\n",
              "      <td>Natal</td>\n",
              "      <td>Não</td>\n",
              "      <td>Sim</td>\n",
              "      <td>17/07/2020</td>\n",
              "      <td>Não</td>\n",
              "      <td>48.0</td>\n",
              "    </tr>\n",
              "    <tr>\n",
              "      <th>...</th>\n",
              "      <td>...</td>\n",
              "      <td>...</td>\n",
              "      <td>...</td>\n",
              "      <td>...</td>\n",
              "      <td>...</td>\n",
              "      <td>...</td>\n",
              "      <td>...</td>\n",
              "      <td>...</td>\n",
              "      <td>...</td>\n",
              "      <td>...</td>\n",
              "      <td>...</td>\n",
              "      <td>...</td>\n",
              "      <td>...</td>\n",
              "      <td>...</td>\n",
              "      <td>...</td>\n",
              "      <td>...</td>\n",
              "      <td>...</td>\n",
              "      <td>...</td>\n",
              "      <td>...</td>\n",
              "      <td>...</td>\n",
              "      <td>...</td>\n",
              "      <td>...</td>\n",
              "      <td>...</td>\n",
              "    </tr>\n",
              "    <tr>\n",
              "      <th>137465</th>\n",
              "      <td>Masculino</td>\n",
              "      <td>Não</td>\n",
              "      <td>Não</td>\n",
              "      <td>Não</td>\n",
              "      <td>Não</td>\n",
              "      <td>Branca</td>\n",
              "      <td>RT-PCR</td>\n",
              "      <td>Não</td>\n",
              "      <td>Concluído</td>\n",
              "      <td>Não</td>\n",
              "      <td>Negativo</td>\n",
              "      <td>25/08/2020</td>\n",
              "      <td>Sintomas na ficha de atendimento - CPT COVID-1...</td>\n",
              "      <td>RIO GRANDE DO NORTE</td>\n",
              "      <td>Não</td>\n",
              "      <td>24/08/2020</td>\n",
              "      <td>Não</td>\n",
              "      <td>Natal</td>\n",
              "      <td>Não</td>\n",
              "      <td>Não</td>\n",
              "      <td>19/08/2020</td>\n",
              "      <td>Não</td>\n",
              "      <td>49.0</td>\n",
              "    </tr>\n",
              "    <tr>\n",
              "      <th>137467</th>\n",
              "      <td>Masculino</td>\n",
              "      <td>Não</td>\n",
              "      <td>Não</td>\n",
              "      <td>Não</td>\n",
              "      <td>Não</td>\n",
              "      <td>Parda</td>\n",
              "      <td>Imunoensaio por Eletroquimioluminescência - EC...</td>\n",
              "      <td>Não</td>\n",
              "      <td>Concluído</td>\n",
              "      <td>Não</td>\n",
              "      <td>Positivo</td>\n",
              "      <td>23/07/2020</td>\n",
              "      <td>SEM SINTOMAS</td>\n",
              "      <td>RIO GRANDE DO NORTE</td>\n",
              "      <td>Não</td>\n",
              "      <td>22/07/2020</td>\n",
              "      <td>Não</td>\n",
              "      <td>Natal</td>\n",
              "      <td>Não</td>\n",
              "      <td>Não</td>\n",
              "      <td>22/07/2020</td>\n",
              "      <td>Não</td>\n",
              "      <td>80.0</td>\n",
              "    </tr>\n",
              "    <tr>\n",
              "      <th>137471</th>\n",
              "      <td>Masculino</td>\n",
              "      <td>Sim</td>\n",
              "      <td>Sim</td>\n",
              "      <td>Não</td>\n",
              "      <td>Não</td>\n",
              "      <td>Branca</td>\n",
              "      <td>TESTE RÁPIDO - ANTICORPO</td>\n",
              "      <td>Não</td>\n",
              "      <td>Concluído</td>\n",
              "      <td>Não</td>\n",
              "      <td>Negativo</td>\n",
              "      <td>10/08/2020</td>\n",
              "      <td>DIARREIA</td>\n",
              "      <td>RIO GRANDE DO NORTE</td>\n",
              "      <td>Não</td>\n",
              "      <td>10/08/2020</td>\n",
              "      <td>Não</td>\n",
              "      <td>Natal</td>\n",
              "      <td>Sim</td>\n",
              "      <td>Não</td>\n",
              "      <td>20/05/2020</td>\n",
              "      <td>Não</td>\n",
              "      <td>40.0</td>\n",
              "    </tr>\n",
              "    <tr>\n",
              "      <th>137474</th>\n",
              "      <td>Masculino</td>\n",
              "      <td>Sim</td>\n",
              "      <td>Não</td>\n",
              "      <td>Sim</td>\n",
              "      <td>Não</td>\n",
              "      <td>Parda</td>\n",
              "      <td>RT-PCR</td>\n",
              "      <td>Não</td>\n",
              "      <td>Concluído</td>\n",
              "      <td>Não</td>\n",
              "      <td>Negativo</td>\n",
              "      <td>08/08/2020</td>\n",
              "      <td>CORIZA, DOR NO CORPO E DIARREIA</td>\n",
              "      <td>RIO GRANDE DO NORTE</td>\n",
              "      <td>Não</td>\n",
              "      <td>07/08/2020</td>\n",
              "      <td>Não</td>\n",
              "      <td>Natal</td>\n",
              "      <td>Não</td>\n",
              "      <td>Não</td>\n",
              "      <td>01/08/2020</td>\n",
              "      <td>Não</td>\n",
              "      <td>45.0</td>\n",
              "    </tr>\n",
              "    <tr>\n",
              "      <th>137476</th>\n",
              "      <td>Masculino</td>\n",
              "      <td>Sim</td>\n",
              "      <td>Sim</td>\n",
              "      <td>Não</td>\n",
              "      <td>Não</td>\n",
              "      <td>Branca</td>\n",
              "      <td>RT-PCR</td>\n",
              "      <td>Não</td>\n",
              "      <td>Concluído</td>\n",
              "      <td>Não</td>\n",
              "      <td>Positivo</td>\n",
              "      <td>24/06/2020</td>\n",
              "      <td>coriza,dor no corpo</td>\n",
              "      <td>RIO GRANDE DO NORTE</td>\n",
              "      <td>Não</td>\n",
              "      <td>23/06/2020</td>\n",
              "      <td>Não</td>\n",
              "      <td>Natal</td>\n",
              "      <td>Não</td>\n",
              "      <td>Não</td>\n",
              "      <td>16/06/2020</td>\n",
              "      <td>Não</td>\n",
              "      <td>57.0</td>\n",
              "    </tr>\n",
              "  </tbody>\n",
              "</table>\n",
              "<p>36510 rows × 23 columns</p>\n",
              "</div>"
            ],
            "text/plain": [
              "             Sexo Febre  ... Doenças respiratórias crônicas descompensadas Idade\n",
              "0       Masculino   Não  ...                                           Não  39.0\n",
              "1       Masculino   Sim  ...                                           Não  49.0\n",
              "3        Feminino   Não  ...                                           Não  53.0\n",
              "4        Feminino   Não  ...                                           Não  47.0\n",
              "7        Feminino   Sim  ...                                           Não  48.0\n",
              "...           ...   ...  ...                                           ...   ...\n",
              "137465  Masculino   Não  ...                                           Não  49.0\n",
              "137467  Masculino   Não  ...                                           Não  80.0\n",
              "137471  Masculino   Sim  ...                                           Não  40.0\n",
              "137474  Masculino   Sim  ...                                           Não  45.0\n",
              "137476  Masculino   Sim  ...                                           Não  57.0\n",
              "\n",
              "[36510 rows x 23 columns]"
            ]
          },
          "metadata": {
            "tags": []
          },
          "execution_count": 78
        }
      ]
    },
    {
      "cell_type": "code",
      "metadata": {
        "colab": {
          "base_uri": "https://localhost:8080/"
        },
        "id": "zHMbuTit0PaA",
        "outputId": "5f9e30b6-17a0-4538-958e-966ef95ffe80"
      },
      "source": [
        "df_covid.info()"
      ],
      "execution_count": null,
      "outputs": [
        {
          "output_type": "stream",
          "text": [
            "<class 'pandas.core.frame.DataFrame'>\n",
            "Int64Index: 36510 entries, 0 to 137476\n",
            "Data columns (total 23 columns):\n",
            " #   Column                                         Non-Null Count  Dtype  \n",
            "---  ------                                         --------------  -----  \n",
            " 0   Sexo                                           36510 non-null  object \n",
            " 1   Febre                                          36510 non-null  object \n",
            " 2   Tosse                                          36510 non-null  object \n",
            " 3   Diabetes                                       36510 non-null  object \n",
            " 4   Dispneia                                       36510 non-null  object \n",
            " 5   Raça/Cor                                       36510 non-null  object \n",
            " 6   Tipo de Teste                                  36510 non-null  object \n",
            " 7   Dor de Garganta                                36510 non-null  object \n",
            " 8   Estado do Teste                                36510 non-null  object \n",
            " 9   Imunossupressão                                36510 non-null  object \n",
            " 10  Resultado do Teste                             36510 non-null  object \n",
            " 11  Data da Notificação                            36510 non-null  object \n",
            " 12  Descrição do Sintoma                           36510 non-null  object \n",
            " 13  Estado da Notificação                          36510 non-null  object \n",
            " 14  Gestante de alto risco                         36510 non-null  object \n",
            " 15  Data da Coleta do Teste                        36510 non-null  object \n",
            " 16  É profissional de saúde?                       36510 non-null  object \n",
            " 17  Município da Notificacao                       36510 non-null  object \n",
            " 18  Profissional de Segurança                      36510 non-null  object \n",
            " 19  Doenças cardíacas crônicas                     36510 non-null  object \n",
            " 20  Data do início dos sintomas                    36510 non-null  object \n",
            " 21  Doenças respiratórias crônicas descompensadas  36510 non-null  object \n",
            " 22  Idade                                          36510 non-null  float64\n",
            "dtypes: float64(1), object(22)\n",
            "memory usage: 6.7+ MB\n"
          ],
          "name": "stdout"
        }
      ]
    },
    {
      "cell_type": "markdown",
      "metadata": {
        "id": "47iF91sR0f63"
      },
      "source": [
        "**7. Quantos profissionais de segurança testaram positivo para covid-19?**"
      ]
    },
    {
      "cell_type": "code",
      "metadata": {
        "id": "uH-CEkkk0kh5"
      },
      "source": [
        "prof = df_covid[df_covid['Profissional de Segurança'] == 'Sim']"
      ],
      "execution_count": null,
      "outputs": []
    },
    {
      "cell_type": "code",
      "metadata": {
        "id": "Zx8KEeBC1dV9"
      },
      "source": [
        "result = df_covid[df_covid['Resultado do Teste'] == 'Positivo']"
      ],
      "execution_count": null,
      "outputs": []
    },
    {
      "cell_type": "code",
      "metadata": {
        "colab": {
          "base_uri": "https://localhost:8080/"
        },
        "id": "XIy08Xsn1qUs",
        "outputId": "b48f4bda-9eb1-4c3e-8156-6aa741e15bbe"
      },
      "source": [
        "len(pd.merge(profSeg, result))"
      ],
      "execution_count": null,
      "outputs": [
        {
          "output_type": "execute_result",
          "data": {
            "text/plain": [
              "409"
            ]
          },
          "metadata": {
            "tags": []
          },
          "execution_count": 124
        }
      ]
    },
    {
      "cell_type": "markdown",
      "metadata": {
        "id": "F0pmQKyp3tRa"
      },
      "source": [
        "**8. Quantas notificações existem para cada tipo de teste?**"
      ]
    },
    {
      "cell_type": "code",
      "metadata": {
        "colab": {
          "base_uri": "https://localhost:8080/"
        },
        "id": "cJEwoVLk3_iS",
        "outputId": "f254a73f-f632-4f4a-acea-6a63275416d7"
      },
      "source": [
        "df_covid['Tipo de Teste'].value_counts()"
      ],
      "execution_count": null,
      "outputs": [
        {
          "output_type": "execute_result",
          "data": {
            "text/plain": [
              "RT-PCR                                                   16525\n",
              "TESTE RÁPIDO - ANTICORPO                                 13993\n",
              "Imunoensaio por Eletroquimioluminescência - ECLIA IgG     3941\n",
              "TESTE RÁPIDO - ANTÍGENO                                   1279\n",
              "Enzimaimunoensaio - ELISA IgM                              557\n",
              "Quimioluminescência - CLIA                                 181\n",
              "Enzimaimunoensaio – ELISA                                   19\n",
              "Imunoensaio por Eletroquimioluminescência – ECLIA           15\n",
              "Name: Tipo de Teste, dtype: int64"
            ]
          },
          "metadata": {
            "tags": []
          },
          "execution_count": 125
        }
      ]
    },
    {
      "cell_type": "markdown",
      "metadata": {
        "id": "3AgSw55h47gW"
      },
      "source": [
        "**3. Quantos profissionais da saúde testaram positivo para covid-19?**"
      ]
    },
    {
      "cell_type": "code",
      "metadata": {
        "colab": {
          "base_uri": "https://localhost:8080/"
        },
        "id": "_wr5nsSn5lQO",
        "outputId": "d7ba05ac-8403-41b2-ef0a-e6b18f5a449e"
      },
      "source": [
        "profsaude = df_covid[df_covid['É profissional de saúde?'] == 'Sim']\r\n",
        "\r\n",
        "len(pd.merge(profsaude, result))\r\n"
      ],
      "execution_count": null,
      "outputs": [
        {
          "output_type": "execute_result",
          "data": {
            "text/plain": [
              "1986"
            ]
          },
          "metadata": {
            "tags": []
          },
          "execution_count": 128
        }
      ]
    },
    {
      "cell_type": "markdown",
      "metadata": {
        "id": "ZV-z615d6KyO"
      },
      "source": [
        "**9. Quantas notificações são de mulheres com gestação de alto risco?**"
      ]
    },
    {
      "cell_type": "code",
      "metadata": {
        "id": "ivQonsy_6ejd"
      },
      "source": [
        "gest = df_covid[df_covid['Gestante de alto risco'] == 'Sim']"
      ],
      "execution_count": null,
      "outputs": []
    },
    {
      "cell_type": "code",
      "metadata": {
        "colab": {
          "base_uri": "https://localhost:8080/"
        },
        "id": "-NJEiJyk7ZnJ",
        "outputId": "7798693f-a2b6-4c61-c228-52cf03bb67ae"
      },
      "source": [
        "len(gest)"
      ],
      "execution_count": null,
      "outputs": [
        {
          "output_type": "execute_result",
          "data": {
            "text/plain": [
              "29"
            ]
          },
          "metadata": {
            "tags": []
          },
          "execution_count": 134
        }
      ]
    },
    {
      "cell_type": "markdown",
      "metadata": {
        "id": "qGmJ78LY7y6S"
      },
      "source": [
        "**6. Qual a quantidade de notificações com comorbidades (imunossupressão, diabetes, problemas respiratórios ou cardíacos)?**"
      ]
    },
    {
      "cell_type": "code",
      "metadata": {
        "colab": {
          "base_uri": "https://localhost:8080/",
          "height": 414
        },
        "id": "lzWbY8zQ8zAV",
        "outputId": "0f046c4d-d2b1-499c-d3eb-ad02ad2a1452"
      },
      "source": [
        "respiratorias = df_covid[df_covid['Doenças respiratórias crônicas descompensadas'] == 'Sim']\r\n",
        "\r\n",
        "coracao = df_covid[df_covid['Doenças cardíacas crônicas'] == 'Sim']\r\n",
        "\r\n",
        "diabetes = df_covid[df_covid['Diabetes'] == 'Sim']\r\n",
        "\r\n",
        "imunu = df_covid[df_covid['Imunossupressão'] == 'Sim']\r\n",
        "\r\n",
        "n1 = pd.merge(respiratorias, coracao)\r\n",
        "\r\n",
        "n2 = pd.merge(diabetes,imunu)\r\n",
        "\r\n",
        "pd.merge(n1,n2)\r\n",
        "\r\n"
      ],
      "execution_count": null,
      "outputs": [
        {
          "output_type": "execute_result",
          "data": {
            "text/html": [
              "<div>\n",
              "<style scoped>\n",
              "    .dataframe tbody tr th:only-of-type {\n",
              "        vertical-align: middle;\n",
              "    }\n",
              "\n",
              "    .dataframe tbody tr th {\n",
              "        vertical-align: top;\n",
              "    }\n",
              "\n",
              "    .dataframe thead th {\n",
              "        text-align: right;\n",
              "    }\n",
              "</style>\n",
              "<table border=\"1\" class=\"dataframe\">\n",
              "  <thead>\n",
              "    <tr style=\"text-align: right;\">\n",
              "      <th></th>\n",
              "      <th>Sexo</th>\n",
              "      <th>Febre</th>\n",
              "      <th>Tosse</th>\n",
              "      <th>Diabetes</th>\n",
              "      <th>Dispneia</th>\n",
              "      <th>Raça/Cor</th>\n",
              "      <th>Tipo de Teste</th>\n",
              "      <th>Dor de Garganta</th>\n",
              "      <th>Estado do Teste</th>\n",
              "      <th>Imunossupressão</th>\n",
              "      <th>Resultado do Teste</th>\n",
              "      <th>Data da Notificação</th>\n",
              "      <th>Descrição do Sintoma</th>\n",
              "      <th>Estado da Notificação</th>\n",
              "      <th>Gestante de alto risco</th>\n",
              "      <th>Data da Coleta do Teste</th>\n",
              "      <th>É profissional de saúde?</th>\n",
              "      <th>Município da Notificacao</th>\n",
              "      <th>Profissional de Segurança</th>\n",
              "      <th>Doenças cardíacas crônicas</th>\n",
              "      <th>Data do início dos sintomas</th>\n",
              "      <th>Doenças respiratórias crônicas descompensadas</th>\n",
              "      <th>Idade</th>\n",
              "    </tr>\n",
              "  </thead>\n",
              "  <tbody>\n",
              "    <tr>\n",
              "      <th>0</th>\n",
              "      <td>Feminino</td>\n",
              "      <td>Não</td>\n",
              "      <td>Sim</td>\n",
              "      <td>Sim</td>\n",
              "      <td>Sim</td>\n",
              "      <td>Parda</td>\n",
              "      <td>RT-PCR</td>\n",
              "      <td>Não</td>\n",
              "      <td>Concluído</td>\n",
              "      <td>Sim</td>\n",
              "      <td>Positivo</td>\n",
              "      <td>27/06/2020</td>\n",
              "      <td>DOR NO CORPO E CANSAÇO</td>\n",
              "      <td>RIO GRANDE DO NORTE</td>\n",
              "      <td>Não</td>\n",
              "      <td>24/06/2020</td>\n",
              "      <td>Não</td>\n",
              "      <td>Natal</td>\n",
              "      <td>Não</td>\n",
              "      <td>Sim</td>\n",
              "      <td>21/06/2020</td>\n",
              "      <td>Sim</td>\n",
              "      <td>61.0</td>\n",
              "    </tr>\n",
              "    <tr>\n",
              "      <th>1</th>\n",
              "      <td>Feminino</td>\n",
              "      <td>Sim</td>\n",
              "      <td>Não</td>\n",
              "      <td>Sim</td>\n",
              "      <td>Não</td>\n",
              "      <td>Preta</td>\n",
              "      <td>RT-PCR</td>\n",
              "      <td>Não</td>\n",
              "      <td>Concluído</td>\n",
              "      <td>Sim</td>\n",
              "      <td>Positivo</td>\n",
              "      <td>13/07/2020</td>\n",
              "      <td>DIARREIA, CORIZA, FRAQUEZA, DISGEUSIA. DOR DE ...</td>\n",
              "      <td>RIO GRANDE DO NORTE</td>\n",
              "      <td>Não</td>\n",
              "      <td>13/07/2020</td>\n",
              "      <td>Não</td>\n",
              "      <td>Natal</td>\n",
              "      <td>Não</td>\n",
              "      <td>Sim</td>\n",
              "      <td>08/07/2020</td>\n",
              "      <td>Sim</td>\n",
              "      <td>75.0</td>\n",
              "    </tr>\n",
              "    <tr>\n",
              "      <th>2</th>\n",
              "      <td>Feminino</td>\n",
              "      <td>Não</td>\n",
              "      <td>Não</td>\n",
              "      <td>Sim</td>\n",
              "      <td>Não</td>\n",
              "      <td>Branca</td>\n",
              "      <td>Imunoensaio por Eletroquimioluminescência - EC...</td>\n",
              "      <td>Não</td>\n",
              "      <td>Concluído</td>\n",
              "      <td>Sim</td>\n",
              "      <td>Positivo</td>\n",
              "      <td>04/08/2020</td>\n",
              "      <td>Dores lombar</td>\n",
              "      <td>RIO GRANDE DO NORTE</td>\n",
              "      <td>Não</td>\n",
              "      <td>21/07/2020</td>\n",
              "      <td>Não</td>\n",
              "      <td>Natal</td>\n",
              "      <td>Não</td>\n",
              "      <td>Sim</td>\n",
              "      <td>10/06/2020</td>\n",
              "      <td>Sim</td>\n",
              "      <td>58.0</td>\n",
              "    </tr>\n",
              "    <tr>\n",
              "      <th>3</th>\n",
              "      <td>Masculino</td>\n",
              "      <td>Não</td>\n",
              "      <td>Não</td>\n",
              "      <td>Sim</td>\n",
              "      <td>Não</td>\n",
              "      <td>Parda</td>\n",
              "      <td>RT-PCR</td>\n",
              "      <td>Não</td>\n",
              "      <td>Concluído</td>\n",
              "      <td>Sim</td>\n",
              "      <td>Negativo</td>\n",
              "      <td>02/08/2020</td>\n",
              "      <td>DOR NO CORPO E DIARREIA</td>\n",
              "      <td>RIO GRANDE DO NORTE</td>\n",
              "      <td>Não</td>\n",
              "      <td>01/08/2020</td>\n",
              "      <td>Não</td>\n",
              "      <td>Natal</td>\n",
              "      <td>Não</td>\n",
              "      <td>Sim</td>\n",
              "      <td>27/07/2020</td>\n",
              "      <td>Sim</td>\n",
              "      <td>66.0</td>\n",
              "    </tr>\n",
              "  </tbody>\n",
              "</table>\n",
              "</div>"
            ],
            "text/plain": [
              "        Sexo Febre  ... Doenças respiratórias crônicas descompensadas Idade\n",
              "0   Feminino   Não  ...                                           Sim  61.0\n",
              "1   Feminino   Sim  ...                                           Sim  75.0\n",
              "2   Feminino   Não  ...                                           Sim  58.0\n",
              "3  Masculino   Não  ...                                           Sim  66.0\n",
              "\n",
              "[4 rows x 23 columns]"
            ]
          },
          "metadata": {
            "tags": []
          },
          "execution_count": 164
        }
      ]
    },
    {
      "cell_type": "markdown",
      "metadata": {
        "id": "ynLU0ROq99hn"
      },
      "source": [
        "**10. Qual o ranking da quantidade de notificações por estado?**"
      ]
    },
    {
      "cell_type": "code",
      "metadata": {
        "colab": {
          "base_uri": "https://localhost:8080/"
        },
        "id": "KWZ3zqCv-MbL",
        "outputId": "737e37fa-d51f-4d12-ca2f-7196cabfb32f"
      },
      "source": [
        "df_covid['Estado da Notificação'].value_counts()"
      ],
      "execution_count": null,
      "outputs": [
        {
          "output_type": "execute_result",
          "data": {
            "text/plain": [
              "RIO GRANDE DO NORTE    36008\n",
              "PARAÍBA                  112\n",
              "SÃO PAULO                 95\n",
              "RIO DE JANEIRO            64\n",
              "CEARÁ                     49\n",
              "BAHIA                     39\n",
              "PERNAMBUCO                31\n",
              "MINAS GERAIS              19\n",
              "AMAZONAS                  16\n",
              "PARÁ                      12\n",
              "PIAUÍ                     10\n",
              "MARANHÃO                   9\n",
              "DISTRITO FEDERAL           9\n",
              "RIO GRANDE DO SUL          8\n",
              "RORAIMA                    6\n",
              "SANTA CATARINA             5\n",
              "SERGIPE                    3\n",
              "ESPÍRITO SANTO             3\n",
              "ALAGOAS                    3\n",
              "PARANÁ                     2\n",
              "RONDÔNIA                   2\n",
              "ACRE                       2\n",
              "TOCANTINS                  1\n",
              "MATO GROSSO DO SUL         1\n",
              "GOIÁS                      1\n",
              "Name: Estado da Notificação, dtype: int64"
            ]
          },
          "metadata": {
            "tags": []
          },
          "execution_count": 145
        }
      ]
    }
  ]
}